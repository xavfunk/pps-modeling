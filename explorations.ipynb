{
 "cells": [
  {
   "cell_type": "markdown",
   "id": "c3c824b0",
   "metadata": {},
   "source": [
    "## TODO\n",
    "\n",
    "- get the individual answers going: sample the sigmoidal at specific timepoins with an (ex-)Gaussian\n",
    "- include ymin and ymax\n",
    "- plot the boundary distributions\n",
    "- get boundary distribution from PPS directly\n",
    "- simulate some psilo participants with plausible priors\n",
    "- draw graphs\n",
    "- check out the neural receptor field stuff: Peripersonal space (PPS) as a multisensory interface between the individual and the environment, defining the space of the self, Andrea Serino an doc of the SM to the 2015 article. see also the tool use effect, looks similar to ours and explained by strenghtening of synapses from neurons with receptive fields farther out towards multisensory neurons, thus increasing the PPS (fig 3)\n"
   ]
  },
  {
   "cell_type": "code",
   "execution_count": 3,
   "id": "0d39d7d8",
   "metadata": {},
   "outputs": [],
   "source": [
    "import numpy as np\n",
    "import matplotlib.pyplot as plt\n",
    "from sympy import *"
   ]
  },
  {
   "cell_type": "code",
   "execution_count": null,
   "id": "90c4a3dd",
   "metadata": {},
   "outputs": [],
   "source": [
    "def yx( ymin = .25, ymax = .35):\n",
    "    \n",
    "    return y"
   ]
  },
  {
   "cell_type": "code",
   "execution_count": 7,
   "id": "ab671b7f",
   "metadata": {},
   "outputs": [
    {
     "data": {
      "text/plain": [
       "2.718281828459045"
      ]
     },
     "execution_count": 7,
     "metadata": {},
     "output_type": "execute_result"
    }
   ],
   "source": [
    "np.e"
   ]
  },
  {
   "cell_type": "code",
   "execution_count": 8,
   "id": "fa4d98c5",
   "metadata": {},
   "outputs": [
    {
     "data": {
      "text/latex": [
       "$\\displaystyle \\frac{1.0 \\cdot 2.71828182845905^{\\frac{x - xc}{b}} ymax}{b} + \\frac{1.0 \\cdot 2.71828182845905^{\\frac{x - xc}{b}}}{b}$"
      ],
      "text/plain": [
       "1.0*2.71828182845905**((x - xc)/b)*ymax/b + 1.0*2.71828182845905**((x - xc)/b)/b"
      ]
     },
     "execution_count": 8,
     "metadata": {},
     "output_type": "execute_result"
    }
   ],
   "source": [
    "x = Symbol('x')\n",
    "ymin = Symbol('ymin')\n",
    "ymax = Symbol('ymax')\n",
    "xc = Symbol('xc')\n",
    "b = Symbol('b')\n",
    "\n",
    "f = (ymin + ymax * np.e ** ((x-xc)/b))/1+np.e**((x-xc)/b)\n",
    "f.diff(x)"
   ]
  },
  {
   "cell_type": "markdown",
   "id": "eee784c9",
   "metadata": {},
   "source": [
    "# $y(x) = \\frac{y_{min} + y_{max} * e^{(x-x_c)/b}}{1 + e^{(x-x_c)/b}}$\n",
    "\n",
    "is equivalent to:\n",
    "\n",
    "# $y(x) = y_{min} + \\frac{y_{min} + y_{max}}{1 + e^{-(x-x_c)/b}}$\n",
    "\n",
    "$y(x)$ is RT \\\n",
    "$x$ is distance \\\n",
    "$x_c$ is the center of the sigmoid curve \\\n",
    "$b$ is the slope of the curve at the center \\\n",
    "\n",
    "Simplified, leaving out the min value:\n",
    "# $y(x) = \\frac{y_{max}}{1 + e^{-(x-x_c)/b}}$\n",
    "\n",
    "allows for:\n",
    "# $logit(y(x)) = log(y_{max}) + k (x-x_c)$\n",
    "where $k = \\frac{1}{b}$"
   ]
  },
  {
   "cell_type": "code",
   "execution_count": 42,
   "id": "4e1e6818",
   "metadata": {},
   "outputs": [],
   "source": [
    "import arviz as az\n",
    "import matplotlib.pyplot as plt\n",
    "import numpy as np\n",
    "import pandas as pd\n",
    "import pymc3 as pm\n",
    "from scipy.special import logit, expit\n",
    "from theano import tensor as tt\n",
    "\n",
    "def tlogit(x, L = None):\n",
    "    if L == None:\n",
    "        return 1 / (1 + tt.exp(-x))\n",
    "    else:\n",
    "        return L / (1 + tt.exp(-x))"
   ]
  },
  {
   "cell_type": "code",
   "execution_count": 89,
   "id": "f7a8f9f9",
   "metadata": {},
   "outputs": [],
   "source": [
    "# in terms of normally distributed PPS boundary with x_c as mean and b as std/k as tau\n",
    "x = np.linspace(0, 6, 6)\n",
    "#x = np.tile(np.linspace(0, 6, 6), 10).reshape(10,6)\n",
    "\n",
    "with pm.Model() as model1:\n",
    "\n",
    "    y_max = 1\n",
    "    y_min = 0.5\n",
    "    \n",
    "    b = pm.Exponential('b', 2)\n",
    "    x_c = pm.Normal('x_c', mu = 3, tau = 100)\n",
    "    \n",
    "#    linerpredi = alpha[sbjid] + beta[sbjid] * (xij - xvect)\n",
    "    linerpredi = np.log(y_max) + 1/b * (x - x_c)\n",
    "#    linerpredi = np.log(y_min) + np.log(y_max-y_min) + 1/b * (x - x_c)\n",
    "\n",
    "#    thetaij = pm.Deterministic(\"thetaij\", tlogit(linerpredi))\n",
    "    mu_y = pm.Deterministic(\"mu_y\", tlogit(linerpredi, L = y_max))\n",
    "    \n",
    "    #y = pm.Normal(\"y\", mu = mu_y, tau=0.001)\n",
    "    prior_checks = pm.sample_prior_predictive(samples=50)"
   ]
  },
  {
   "cell_type": "code",
   "execution_count": 62,
   "id": "78b5ffa8",
   "metadata": {},
   "outputs": [
    {
     "data": {
      "text/plain": [
       "array([[0. , 1.2, 2.4, 3.6, 4.8, 6. ],\n",
       "       [0. , 1.2, 2.4, 3.6, 4.8, 6. ],\n",
       "       [0. , 1.2, 2.4, 3.6, 4.8, 6. ],\n",
       "       [0. , 1.2, 2.4, 3.6, 4.8, 6. ],\n",
       "       [0. , 1.2, 2.4, 3.6, 4.8, 6. ],\n",
       "       [0. , 1.2, 2.4, 3.6, 4.8, 6. ],\n",
       "       [0. , 1.2, 2.4, 3.6, 4.8, 6. ],\n",
       "       [0. , 1.2, 2.4, 3.6, 4.8, 6. ],\n",
       "       [0. , 1.2, 2.4, 3.6, 4.8, 6. ],\n",
       "       [0. , 1.2, 2.4, 3.6, 4.8, 6. ]])"
      ]
     },
     "execution_count": 62,
     "metadata": {},
     "output_type": "execute_result"
    }
   ],
   "source": [
    "x = np.tile(np.linspace(0, 6, 6), 10).reshape(10,6)\n",
    "\n",
    "x"
   ]
  },
  {
   "cell_type": "code",
   "execution_count": 77,
   "id": "614adc7b",
   "metadata": {},
   "outputs": [
    {
     "data": {
      "text/plain": [
       "(50, 10, 6)"
      ]
     },
     "execution_count": 77,
     "metadata": {},
     "output_type": "execute_result"
    }
   ],
   "source": [
    "prior_checks['mu_y'].shape"
   ]
  },
  {
   "cell_type": "code",
   "execution_count": 94,
   "id": "bad6fe21",
   "metadata": {},
   "outputs": [
    {
     "data": {
      "text/plain": [
       "[<matplotlib.lines.Line2D at 0x164dbda6dc8>]"
      ]
     },
     "execution_count": 94,
     "metadata": {},
     "output_type": "execute_result"
    },
    {
     "data": {
      "image/png": "[encoded data removed]",
      "text/plain": [
       "<Figure size 432x288 with 1 Axes>"
      ]
     },
     "metadata": {
      "needs_background": "light"
     },
     "output_type": "display_data"
    }
   ],
   "source": [
    "plt.plot(prior_checks['mu_y'].T[:,2])\n",
    "#plt.plot(prior_checks['mu_y'][:,2,:].T)"
   ]
  },
  {
   "cell_type": "code",
   "execution_count": 124,
   "id": "64aaf0f8",
   "metadata": {},
   "outputs": [],
   "source": [
    "\n",
    "with pm.Model() as model2:\n",
    "    #means = [pm.Normal(f\"y_{i}\", mu=μ_m, sigma=μ_s) for i in range(len(mu_y))]\n",
    "    means = prior_checks['mu_y'].T[:,2] # picking one sigmoid\n",
    "    #std = pm.Exponential('sd', 1)\n",
    "    # rt as normal\n",
    "    #rt_trials = [pm.Normal(f\"y_{i}\", mu=means[i], tau = 10) for i in range(len(means))]\n",
    "\n",
    "    # rt as ex-gaussian\n",
    "    rt_trials = [pm.ExGaussian(f\"y_{i}\", mu=means[i], sigma = 0.01, nu = 0.1) for i in range(len(means))]\n",
    "\n",
    "    prior_rts = pm.sample_prior_predictive(samples=50)"
   ]
  },
  {
   "cell_type": "code",
   "execution_count": 122,
   "id": "a0229bf0",
   "metadata": {
    "collapsed": true
   },
   "outputs": [
    {
     "data": {
      "text/plain": [
       "{'y_0': array([-0.03828403,  0.88450578,  0.91929103,  0.9677356 ,  0.37093458,\n",
       "         1.8159147 ,  0.88477943,  0.59499847,  0.31077003,  0.52998895,\n",
       "         2.24139098,  0.17312867,  2.01937868,  0.62758708,  1.37231494,\n",
       "         1.07298203,  0.10180362,  0.17195044,  0.48845568,  1.85652535,\n",
       "         0.32855549,  2.76015474,  2.12722088,  0.87953686,  0.66183443,\n",
       "         1.23300454,  2.59492125,  0.28329155,  0.99572052,  0.35359129,\n",
       "         0.95129319,  2.54977571,  0.9023502 ,  1.33501201,  0.58187432,\n",
       "         1.4803025 ,  0.09388836,  1.9887957 ,  0.69249652,  0.81732147,\n",
       "         0.00998677,  3.51773709,  0.29515345,  0.56599039,  0.67549778,\n",
       "         4.72889597,  0.48375783,  1.08260933,  0.071962  ,  1.06789671]),\n",
       " 'y_3': array([1.10154659, 0.7926393 , 1.42909443, 1.09129029, 1.38901767,\n",
       "        1.49059954, 2.27926874, 0.84979584, 0.9752651 , 1.31294524,\n",
       "        1.14810135, 0.82356196, 1.61821056, 1.29996789, 2.09713982,\n",
       "        1.15273973, 1.67732395, 1.234274  , 0.91058528, 0.83277353,\n",
       "        1.22433845, 1.66232181, 1.00733317, 1.05825248, 0.66727154,\n",
       "        1.34423524, 1.25829591, 2.43571326, 1.08666552, 1.32219435,\n",
       "        0.69608847, 3.27635328, 1.32502539, 5.29845906, 2.58010467,\n",
       "        2.08652184, 1.02122459, 1.18819472, 0.83492505, 1.04561882,\n",
       "        1.44659091, 0.88509948, 2.59069409, 1.19442905, 1.13212738,\n",
       "        2.26016196, 1.02217579, 0.67436842, 1.13586383, 1.90933024]),\n",
       " 'y_2': array([2.00192669, 0.43391489, 2.00495849, 0.44040518, 0.57980755,\n",
       "        1.85293101, 1.27872166, 0.31112307, 0.46031691, 1.92189492,\n",
       "        1.41139328, 1.35054881, 0.39733493, 0.50436303, 5.86012491,\n",
       "        0.45555066, 0.33620535, 0.73381135, 0.24224812, 0.29002376,\n",
       "        0.7778105 , 3.87898024, 0.38107508, 0.34923682, 0.47652929,\n",
       "        0.40169018, 0.9757813 , 0.98749049, 2.23571918, 0.30288901,\n",
       "        0.69389253, 2.02095417, 1.2472619 , 0.77686761, 3.30742496,\n",
       "        1.61136612, 1.00300621, 0.74864844, 0.29530913, 1.0920996 ,\n",
       "        0.19247017, 2.653564  , 0.89351956, 0.74671284, 1.72810935,\n",
       "        1.96825521, 0.4561296 , 0.45023875, 2.24584244, 1.77977491]),\n",
       " 'y_5': array([1.36032598, 1.24719685, 2.34893444, 1.3964899 , 1.40857032,\n",
       "        1.35931784, 1.67417392, 1.75119842, 1.39371976, 1.01827766,\n",
       "        2.55111183, 3.86386925, 1.0612004 , 2.79170515, 1.54617295,\n",
       "        3.15787363, 1.34750874, 3.68934569, 1.5668466 , 4.21989234,\n",
       "        2.39896998, 1.06606753, 2.16933049, 3.03916911, 1.6158898 ,\n",
       "        1.08150538, 1.75175727, 1.01410541, 1.31389733, 1.53821718,\n",
       "        1.51877464, 2.45853591, 3.1572922 , 1.51105699, 2.42082657,\n",
       "        2.67040041, 2.20413048, 1.52250499, 1.970048  , 1.78398374,\n",
       "        2.14142554, 1.6917286 , 1.87199146, 4.03887331, 2.2440004 ,\n",
       "        1.11027326, 1.96368434, 1.53288518, 6.01896202, 2.32702454]),\n",
       " 'y_1': array([ 1.49792467,  2.30731732,  0.19834788,  5.55569327,  0.74439073,\n",
       "         1.28020855,  0.31350021,  0.64228737,  0.27253759,  0.62662088,\n",
       "         0.80877358,  0.12938329,  1.54953608,  0.11320775,  0.0780402 ,\n",
       "         0.59331167,  0.61319085,  0.28179285,  0.65069652,  1.71931973,\n",
       "         0.17402547,  2.67451922,  1.40709635,  0.32135725,  0.92611809,\n",
       "         3.09347387,  0.14809418,  0.3692714 ,  1.70724203,  0.43584997,\n",
       "         0.94205671,  0.21311712,  0.0569569 ,  3.73931117,  3.92232954,\n",
       "         0.04617426,  0.19471977,  0.8084048 ,  0.35160732,  0.9453144 ,\n",
       "         2.00481669,  0.75753508,  0.48674032, -0.06276837,  0.12996597,\n",
       "         0.50429112,  1.00431105,  1.07555792,  0.2204563 ,  0.80735327]),\n",
       " 'y_4': array([1.15599579, 1.87391786, 1.00279732, 1.11056844, 2.52219115,\n",
       "        1.15569462, 2.58483969, 2.51814127, 2.68596764, 1.69279908,\n",
       "        2.61264393, 1.07135207, 1.9838652 , 1.37217672, 1.47854767,\n",
       "        5.89506898, 2.11271186, 1.90339895, 1.56583599, 1.98303054,\n",
       "        2.17168366, 1.91765263, 2.04312948, 1.37258075, 0.94583571,\n",
       "        3.01087125, 2.02080856, 1.50315903, 1.83375481, 1.50884385,\n",
       "        1.31968408, 1.07191488, 0.93849888, 1.60401543, 2.21134648,\n",
       "        0.97273383, 1.50267186, 0.96979559, 1.68248178, 1.1440591 ,\n",
       "        1.35393801, 1.546202  , 6.77874332, 1.01775674, 2.03011324,\n",
       "        1.7872623 , 3.76915944, 1.24750126, 1.05808222, 1.95407477])}"
      ]
     },
     "execution_count": 122,
     "metadata": {},
     "output_type": "execute_result"
    }
   ],
   "source": [
    "prior_rts"
   ]
  },
  {
   "cell_type": "code",
   "execution_count": 125,
   "id": "973e4364",
   "metadata": {},
   "outputs": [
    {
     "data": {
      "image/png": "[encoded data removed]",
      "text/plain": [
       "<Figure size 432x288 with 1 Axes>"
      ]
     },
     "metadata": {
      "needs_background": "light"
     },
     "output_type": "display_data"
    }
   ],
   "source": [
    "plt.plot(prior_checks['mu_y'].T[:,2])\n",
    "for tp in [key for key in prior_rts.keys() if 'y_' in key]:\n",
    "    \n",
    "    plt.scatter([int(tp[-1])]*len(prior_rts[tp]), prior_rts[tp], alpha = 0.5, marker = 'o')\n",
    "    "
   ]
  }
 ],
 "metadata": {
  "kernelspec": {
   "display_name": "Python 3",
   "language": "python",
   "name": "python3"
  },
  "language_info": {
   "codemirror_mode": {
    "name": "ipython",
    "version": 3
   },
   "file_extension": ".py",
   "mimetype": "text/x-python",
   "name": "python",
   "nbconvert_exporter": "python",
   "pygments_lexer": "ipython3",
   "version": "3.7.4"
  }
 },
 "nbformat": 4,
 "nbformat_minor": 5
}
